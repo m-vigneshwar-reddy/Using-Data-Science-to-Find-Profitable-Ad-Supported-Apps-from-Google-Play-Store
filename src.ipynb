{
  "nbformat": 4,
  "nbformat_minor": 0,
  "metadata": {
    "colab": {
      "provenance": [],
      "collapsed_sections": [
        "UuEU4st-xpVM"
      ],
      "authorship_tag": "ABX9TyOov8RGDtc6VwpslK3ouoWz",
      "include_colab_link": true
    },
    "kernelspec": {
      "name": "python3",
      "display_name": "Python 3"
    },
    "language_info": {
      "name": "python"
    }
  },
  "cells": [
    {
      "cell_type": "markdown",
      "metadata": {
        "id": "view-in-github",
        "colab_type": "text"
      },
      "source": [
        "<a href=\"https://colab.research.google.com/github/m-vigneshwar-reddy/Using-Data-Science-to-Find-Profitable-Ad-Supported-Apps-from-Google-Play-Store/blob/main/src.ipynb\" target=\"_parent\"><img src=\"https://colab.research.google.com/assets/colab-badge.svg\" alt=\"Open In Colab\"/></a>"
      ]
    },
    {
      "cell_type": "code",
      "execution_count": null,
      "metadata": {
        "id": "Fl6CiagTiuW0"
      },
      "outputs": [],
      "source": []
    },
    {
      "cell_type": "markdown",
      "source": [
        "#<h1>*project:* **using data science to find the profitable  ad-supported app from palystore**  </h1>"
      ],
      "metadata": {
        "id": "asElpJ7Frx3e"
      }
    },
    {
      "cell_type": "markdown",
      "source": [
        "in this project, we will be data analysis to find out the profitable apps with ad-spport for an company , you’ll analyze real app market data to find app profiles that attract the most users."
      ],
      "metadata": {
        "id": "1WDHd3NDual4"
      }
    },
    {
      "cell_type": "markdown",
      "source": [
        " **Project** **overview:**<br>\n",
        "In this project, you’ll assume the role of a data analyst at a company that builds free, ad-supported apps for Android and iOS. Since the company’s revenue depends on in-app ads, your task is to analyze historical data from app markets to determine which kinds of apps attract the most users.\n",
        "\n",
        "Using Python, you’ll clean the provided datasets and analyze them using frequency tables and averages to identify trends. By working through a complete data science workflow, you’ll develop hands-on experience in data-driven decision making to inform business strategy. Finally, you’ll make recommendations on the app profiles the company should pursue to maximize users and ad revenue.\n",
        "\n",
        "Objective: Analyze mobile app market data to recommend app development strategies that maximize user engagement and advertising profits."
      ],
      "metadata": {
        "id": "UuEU4st-xpVM"
      }
    },
    {
      "cell_type": "markdown",
      "source": [
        "**project** **steps:**<br>\n",
        "*step 1:*"
      ],
      "metadata": {
        "id": "iRBy2NZ8Cp_W"
      }
    },
    {
      "cell_type": "markdown",
      "source": [
        "🔧 **step 0:** Import Required Libraries"
      ],
      "metadata": {
        "id": "hs9DSmZYHVtm"
      }
    },
    {
      "cell_type": "markdown",
      "source": [
        "Decision: Import standard and Kaggle libraries.\n",
        "\n",
        "\n",
        "\n",
        "pandas – for data manipulation.\n",
        "\n",
        "KaggleApi – to programmatically access datasets from Kaggle.\n",
        "\n",
        "*   os – for setting environment variables.\n",
        "\n"
      ],
      "metadata": {
        "id": "8sYkxg_pHw7P"
      }
    },
    {
      "cell_type": "code",
      "source": [
        "import os\n",
        "os.environ['KAGGLE_USERNAME'] = 'your_kaggle_username'\n",
        "os.environ['KAGGLE_KEY'] = 'your_kaggle_key_from_json'\n",
        "\n",
        "import pandas as pd\n",
        "from kaggle.api.kaggle_api_extended import KaggleApi\n",
        "\n",
        "\n"
      ],
      "metadata": {
        "colab": {
          "base_uri": "https://localhost:8080/"
        },
        "id": "FptIbAX29Vmg",
        "outputId": "ee59e701-aab6-4315-c215-56d81ecbf893"
      },
      "execution_count": null,
      "outputs": [
        {
          "output_type": "stream",
          "name": "stdout",
          "text": [
            "Dataset URL: https://www.kaggle.com/datasets/lava18/google-play-store-apps\n",
            "                                                 App        Category  Rating  \\\n",
            "0     Photo Editor & Candy Camera & Grid & ScrapBook  ART_AND_DESIGN     4.1   \n",
            "1                                Coloring book moana  ART_AND_DESIGN     3.9   \n",
            "2  U Launcher Lite – FREE Live Cool Themes, Hide ...  ART_AND_DESIGN     4.7   \n",
            "3                              Sketch - Draw & Paint  ART_AND_DESIGN     4.5   \n",
            "4              Pixel Draw - Number Art Coloring Book  ART_AND_DESIGN     4.3   \n",
            "\n",
            "  Reviews  Size     Installs  Type Price Content Rating  \\\n",
            "0     159   19M      10,000+  Free     0       Everyone   \n",
            "1     967   14M     500,000+  Free     0       Everyone   \n",
            "2   87510  8.7M   5,000,000+  Free     0       Everyone   \n",
            "3  215644   25M  50,000,000+  Free     0           Teen   \n",
            "4     967  2.8M     100,000+  Free     0       Everyone   \n",
            "\n",
            "                      Genres      Last Updated         Current Ver  \\\n",
            "0               Art & Design   January 7, 2018               1.0.0   \n",
            "1  Art & Design;Pretend Play  January 15, 2018               2.0.0   \n",
            "2               Art & Design    August 1, 2018               1.2.4   \n",
            "3               Art & Design      June 8, 2018  Varies with device   \n",
            "4    Art & Design;Creativity     June 20, 2018                 1.1   \n",
            "\n",
            "    Android Ver  \n",
            "0  4.0.3 and up  \n",
            "1  4.0.3 and up  \n",
            "2  4.0.3 and up  \n",
            "3    4.2 and up  \n",
            "4    4.4 and up  \n"
          ]
        }
      ]
    },
    {
      "cell_type": "code",
      "source": [
        "# Step 1: Set up Kaggle credentials\n",
        "api = KaggleApi()\n",
        "api.authenticate()\n",
        "\n"
      ],
      "metadata": {
        "id": "ptt-I-MTG5gG"
      },
      "execution_count": null,
      "outputs": []
    },
    {
      "cell_type": "code",
      "source": [
        "# Step 2: Download and unzip the dataset\n",
        "api.dataset_download_files('lava18/google-play-store-apps', path='.', unzip=True)"
      ],
      "metadata": {
        "id": "4w2a7DtXG8co"
      },
      "execution_count": null,
      "outputs": []
    },
    {
      "cell_type": "code",
      "source": [
        "# Step 3: Read the CSV file\n",
        "df = pd.read_csv('googleplaystore.csv')\n",
        "print(df.head())\n",
        "#print(df)"
      ],
      "metadata": {
        "id": "rLdjyW7vHHQS"
      },
      "execution_count": null,
      "outputs": []
    },
    {
      "cell_type": "code",
      "source": [
        "#l = list(df)\n",
        "#print(type(df))\n",
        "#print(df['App'])\n",
        "#print('length:',len( set(df['App'])))"
      ],
      "metadata": {
        "id": "vkpFVpT9Ev_z"
      },
      "execution_count": null,
      "outputs": []
    },
    {
      "cell_type": "code",
      "source": [
        "df = df.drop_duplicates(subset=['App'])\n",
        "#print(df)"
      ],
      "metadata": {
        "id": "BT8lsDi1L-AL"
      },
      "execution_count": null,
      "outputs": []
    },
    {
      "cell_type": "code",
      "source": [
        "df1 = df[df['Type']=='Free']\n",
        "#print(df1)"
      ],
      "metadata": {
        "id": "rHhrbVpVMk16"
      },
      "execution_count": null,
      "outputs": []
    },
    {
      "cell_type": "code",
      "source": [
        "print(list(df))"
      ],
      "metadata": {
        "colab": {
          "base_uri": "https://localhost:8080/"
        },
        "id": "xNeCjZEHR7kM",
        "outputId": "d49450b4-beca-403c-dffc-7faac87e3950"
      },
      "execution_count": null,
      "outputs": [
        {
          "output_type": "stream",
          "name": "stdout",
          "text": [
            "['App', 'Category', 'Rating', 'Reviews', 'Size', 'Installs', 'Type', 'Price', 'Content Rating', 'Genres', 'Last Updated', 'Current Ver', 'Android Ver']\n"
          ]
        }
      ]
    },
    {
      "cell_type": "code",
      "source": [
        "df1.loc[:,'Installs'] = df1['Installs'].astype(str).replace('[+,]','',regex = True).astype(int)\n",
        "#print(df1)"
      ],
      "metadata": {
        "id": "1CSJaityVgAX"
      },
      "execution_count": null,
      "outputs": []
    },
    {
      "cell_type": "code",
      "source": [
        "df1 = df1.sort_values(by=['Installs','Rating'],ascending=False)\n",
        "#print(df1)"
      ],
      "metadata": {
        "id": "c4quq7UeXMkP"
      },
      "execution_count": null,
      "outputs": []
    },
    {
      "cell_type": "code",
      "source": [
        "l = list(df1['App'][0:100])\n",
        "for i in range(0,100):\n",
        "  print(i+1,' ',l[i])"
      ],
      "metadata": {
        "id": "P3DP8iZcZbh8",
        "outputId": "2fcf4ed5-6e98-450f-98e4-a53859ea6c76",
        "colab": {
          "base_uri": "https://localhost:8080/"
        }
      },
      "execution_count": null,
      "outputs": [
        {
          "output_type": "stream",
          "name": "stdout",
          "text": [
            "1   Subway Surfers\n",
            "2   Instagram\n",
            "3   Google Photos\n",
            "4   WhatsApp Messenger\n",
            "5   Google\n",
            "6   Google Drive\n",
            "7   Google Chrome: Fast & Secure\n",
            "8   Gmail\n",
            "9   Google Play Games\n",
            "10   Maps - Navigate & Explore\n",
            "11   YouTube\n",
            "12   Google+\n",
            "13   Google Street View\n",
            "14   Skype - free IM & video calls\n",
            "15   Facebook\n",
            "16   Messenger – Text and Video Chat for Free\n",
            "17   Hangouts\n",
            "18   Google Play Books\n",
            "19   Google News\n",
            "20   Google Play Movies & TV\n",
            "21   Clean Master- Space Cleaner & Antivirus\n",
            "22   Security Master - Antivirus, VPN, AppLock, Booster\n",
            "23   Google Duo - High Quality Video Calls\n",
            "24   SHAREit - Transfer & Share\n",
            "25   UC Browser - Fast Download Private & Secure\n",
            "26   My Talking Tom\n",
            "27   Microsoft Word\n",
            "28   MX Player\n",
            "29   Candy Crush Saga\n",
            "30   Google Translate\n",
            "31   Dropbox\n",
            "32   Flipboard: News For Our Time\n",
            "33   Viber Messenger\n",
            "34   imo free video calls and chat\n",
            "35   Temple Run 2\n",
            "36   Pou\n",
            "37   Facebook Lite\n",
            "38   Twitter\n",
            "39   Samsung Health\n",
            "40   LINE: Free Calls & Messages\n",
            "41   Gboard - the Google Keyboard\n",
            "42   Google Calendar\n",
            "43   Cloud Print\n",
            "44   Snapchat\n",
            "45   Period Tracker - Period Calendar Ovulation Tracker\n",
            "46   Duolingo: Learn Languages Free\n",
            "47   Piano Tiles 2™\n",
            "48   Booking.com Travel Deals\n",
            "49   Bible\n",
            "50   Wattpad 📖 Free Books\n",
            "51   Clash Royale\n",
            "52   Clash of Clans\n",
            "53   Sniper 3D Gun Shooter: Free Shooting Games - FPS\n",
            "54   Score! Hero\n",
            "55   Talking Tom Gold Run\n",
            "56   Dream League Soccer 2018\n",
            "57   Hill Climb Racing 2\n",
            "58   Angry Birds 2\n",
            "59   Shadow Fight 2\n",
            "60   Pinterest\n",
            "61   AliExpress - Smarter Shopping, Better Living\n",
            "62   YouCam Makeup - Magic Selfie Makeovers\n",
            "63   Sweet Selfie - selfie camera, beauty cam, photo edit\n",
            "64   PhotoGrid: Video & Pic Collage Maker, Photo Editor\n",
            "65   CM Locker - Security Lockscreen\n",
            "66   ZEDGE™ Ringtones & Wallpapers\n",
            "67   CM Launcher 3D - Theme, Wallpapers, Efficient\n",
            "68   Backgrounds HD (Wallpapers)\n",
            "69   ES File Explorer File Manager\n",
            "70   Evernote – Organizer, Planner for Notes & Memos\n",
            "71   ColorNote Notepad Notes\n",
            "72   Waze - GPS, Maps, Traffic Alerts & Live Navigation\n",
            "73   Parallel Space - Multiple accounts & Two face\n",
            "74   360 Security - Free Antivirus, Booster, Cleaner\n",
            "75   VivaVideo - Video Editor & Photo Movie\n",
            "76   VideoShow-Video Editor, Video Maker, Beauty Camera\n",
            "77   Bitmoji – Your Personal Emoji\n",
            "78   CamScanner - Phone PDF Creator\n",
            "79   Opera Mini - fast web browser\n",
            "80   Truecaller: Caller ID, SMS spam blocking & Dialer\n",
            "81   ROBLOX\n",
            "82   Sonic Dash\n",
            "83   8 Ball Pool\n",
            "84   Minion Rush: Despicable Me Official Game\n",
            "85   My Talking Angela\n",
            "86   Cooking Fever\n",
            "87   Garena Free Fire\n",
            "88   Roll the Ball® - slide puzzle\n",
            "89   Traffic Racer\n",
            "90   Hungry Shark Evolution\n",
            "91   Trivia Crack\n",
            "92   Yes day\n",
            "93   Crossy Road\n",
            "94   Wish - Shopping Made Fun\n",
            "95   YouCam Perfect - Selfie Photo Editor\n",
            "96   PicsArt Photo Studio: Collage Maker & Pic Editor\n",
            "97   Cache Cleaner-DU Speed Booster (booster & cleaner)\n",
            "98   GO Keyboard - Cute Emojis, Themes and GIFs\n",
            "99   APUS Launcher - Theme, Wallpaper, Hide Apps\n",
            "100   Hola Launcher- Theme,Wallpaper\n"
          ]
        }
      ]
    }
  ]
}